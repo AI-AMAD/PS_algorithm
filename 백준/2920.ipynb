{
 "cells": [
  {
   "cell_type": "markdown",
   "metadata": {},
   "source": [
    "<img src = '2920.png'>"
   ]
  },
  {
   "cell_type": "code",
   "execution_count": 21,
   "metadata": {},
   "outputs": [
    {
     "name": "stdout",
     "output_type": "stream",
     "text": [
      "mixed\n"
     ]
    }
   ],
   "source": [
    "n = list(map(int, input().split()))\n",
    "\n",
    "ascending = True\n",
    "descending = True\n",
    "\n",
    "for i in range(1,8):\n",
    "    if n[i] > n[i-1]:\n",
    "        descending = False\n",
    "    elif n[i] < n[i-1]:\n",
    "        ascending = False\n",
    "\n",
    "if ascending:\n",
    "    print('ascending')\n",
    "elif descending:\n",
    "    print('descending')\n",
    "else:\n",
    "    print('mixed')"
   ]
  }
 ],
 "metadata": {
  "kernelspec": {
   "display_name": "AMAD-jupyter",
   "language": "python",
   "name": "conda"
  },
  "language_info": {
   "codemirror_mode": {
    "name": "ipython",
    "version": 3
   },
   "file_extension": ".py",
   "mimetype": "text/x-python",
   "name": "python",
   "nbconvert_exporter": "python",
   "pygments_lexer": "ipython3",
   "version": "3.9.7"
  },
  "orig_nbformat": 4
 },
 "nbformat": 4,
 "nbformat_minor": 2
}
