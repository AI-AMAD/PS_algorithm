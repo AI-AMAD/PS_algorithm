{
 "cells": [
  {
   "cell_type": "markdown",
   "metadata": {},
   "source": [
    "<img src='1966f.png'>\n",
    "<img src='1966s.png'>"
   ]
  },
  {
   "cell_type": "code",
   "execution_count": 96,
   "metadata": {},
   "outputs": [
    {
     "name": "stdout",
     "output_type": "stream",
     "text": [
      "1\n",
      "2\n",
      "5\n"
     ]
    }
   ],
   "source": [
    "test_case = int(input())\n",
    "# 테스트 케이스를 먼저 입력 받고 그 테스트 케이스 숫자 만큼 반복을 돌려 그 반복을 돌릴때 마다 다시 N,M queue를 입력 받는다\n",
    "# 테스트 케이스가 3개이면 각각 N,M,queue가 3개 이고 4개이면 4개이니 테스트 케이스 만큼 입력받아야 한다. \n",
    "for _ in range(test_case):\n",
    "    N, M  = map(int, input().split())\n",
    "    queue = list(map(int, input().split()))\n",
    "    queue = [(idx, importance) for idx, importance in enumerate(queue)]\n",
    "    # 입력받은 queue를 인덱스 번호도 알 수 있게 해주기 위해 enumerate 함수 사용한다. \n",
    "    # enum 사용한것 튜플로 묶어서 리스트 만들어준다. \n",
    "    # 이유는 튜플로 묶어서 리스트로 만들면 max 함수 사용시 key = lambda 문법 사용하여 튜플의 구성요소중 가장 큰것 뽑아 올수 있어서 x[1]로 해주면 튜플 [1]이 제일 큰것 리턴해주고 \n",
    "    # x[0] 으로 하면 튜플중 [0]의 값이 제일 큰것 리턴해준다. \n",
    "    # importance 가 높은것이 필요하므로 lambda x: x[1]해줘서 [1]이 큰것을 리턴 받는다.\n",
    "    \n",
    "    answer_count = 0\n",
    "    # importance 가장 큰것이 M과 일치한다는 보장이 없으므로 일단 importance가 가장 높아 pop(0) 될시에 +1 씩 증가시킨다.\n",
    "    while True:\n",
    "        if queue[0][1] == max(queue, key = lambda x: x[1])[1]:\n",
    "            # [1]이 importance 이다. 그리고 그 값이 현재 queue에서 가장 높은 값이라면 출력한다는 문제 조건을 구현한 것\n",
    "            answer_count += 1\n",
    "            # 몇번쨰로 출력되는지를 문제에서 원하므로 일단 출력 시킬때 마다 count값 1씩 증가 시켜놓는다. \n",
    "            # 그리고 문제 조건이 맞을때의 count 값을 출력시키면 문제의 해답이 된다.\n",
    "            if queue[0][0] == M:\n",
    "                # queue에 [0][0] 값이 M과 같다면 반복문 종료하고 현재 까지 프린트한 횟수(count)를 출력해주면 답이된다. \n",
    "                print(answer_count)\n",
    "                break\n",
    "\n",
    "            else: \n",
    "                queue.pop(0)\n",
    "                # 가장 큰값과 M이 일치 하지 않는다면 일단 출력 시켜서 queue에서 제거 시킨다. 문제의 조건을 그대로 구현한 것이다.\n",
    "\n",
    "        else:\n",
    "            queue.append(queue.pop(0))\n",
    "            # 첫번째 조건문에서 max 값과 일치 하지않는다면 출력 하지 않고 큐의 가장 뒤로 재배치 시킨다는 문제의 조건을 구현한 것이다.\n"
   ]
  }
 ],
 "metadata": {
  "kernelspec": {
   "display_name": "AMAD-jupyter",
   "language": "python",
   "name": "conda"
  },
  "language_info": {
   "codemirror_mode": {
    "name": "ipython",
    "version": 3
   },
   "file_extension": ".py",
   "mimetype": "text/x-python",
   "name": "python",
   "nbconvert_exporter": "python",
   "pygments_lexer": "ipython3",
   "version": "3.9.7"
  },
  "orig_nbformat": 4
 },
 "nbformat": 4,
 "nbformat_minor": 2
}
