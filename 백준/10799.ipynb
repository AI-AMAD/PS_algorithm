{
 "cells": [
  {
   "cell_type": "markdown",
   "metadata": {},
   "source": [
    "<img src = '10799f.png'>\n",
    "<img src = '10799s.png'>"
   ]
  },
  {
   "cell_type": "code",
   "execution_count": 1,
   "metadata": {},
   "outputs": [
    {
     "name": "stdout",
     "output_type": "stream",
     "text": [
      "9\n"
     ]
    }
   ],
   "source": [
    "# 이런 문제를 풀때는 무작정 코드를 치지말고 규칙이 있지 않을까 생각해 보는게 좋다. \n",
    "# 연습장에 문제를 구현 해보면서 어떤 규칙이 있는지 찾아보고 코드로 옮기는 순서를 항상 습관들이자.\n",
    "\n",
    "# ( ( ( () () ) ) ) 이런 모양을 예를 들어 보면\n",
    "# '('이 오면 스택에 넣는다. 그 후에 ()이 왔을때 스택에 쌓인 '('의 갯수 만큼 answer에 더해준다. 그럼 첫번쨰 ()를 만났을때 answer는 3이다.\n",
    "# 바로 다음에 또 ()를 만난다. 스택에는 ((( 3개 있으므로 answer에 3 더해준다. \n",
    "# ')' 나오기 시작하면 스택의 '(' pop 시키면서 answer에 1씩 더해주면 정답이 나온다. \n",
    "# 한참 생각해보고 연습장에 그려보니 '(', ')'의 규칙을 찾아낸 것이고 이제 이 규칙에 맞게 코드화 시켜주면 끝이다.\n",
    "\n",
    "batch = list(input())\n",
    "\n",
    "batch_count = len(batch)\n",
    "stack = []\n",
    "answer = 0\n",
    "\n",
    "for i in range(batch_count):\n",
    "    # ) 나왔을때 이전에 나온 문자를 찾을때 인덱스 번호 i-1로 찾는게 편하기 때문에 리스트 자체를 반복문 돌리지 않고 batch의 길이 만큼으로 반복문 돌려준다.\n",
    "    if batch[i] == '(':\n",
    "        stack.append(batch[i])\n",
    "        # 문제 그대로 구현한다. '(' 가 나오면 막대기가 시작하는 것이므로 스택에 추가시켜준다.\n",
    "\n",
    "    else:\n",
    "        # else문을 탔다는건 ')'가 나왔다는 말이다. 그런데 ')'가 나왔을때 그 앞전의 문자가 '(' or ')' 둘중 하나의 가능성이 있으므로 \n",
    "        # 앞전 문자가 '(' 라는건 () 즉 레이저 라는 것이고, ')' 라는건 )) 이므로 쇠막대기의 끝을 나타내는 ')' 이다.\n",
    "        # 두가지의 조건이 있을수 있으므로 else문에서 다시 if로 분기 나눠준다. \n",
    "        if batch[i-1] == '(':\n",
    "            # i-1로 ')' 앞전 문자를 확인한다. '(' 라는건 레이저를 뜻한다.\n",
    "            # 레이저 만났으므로 규칙을 적용한다. 현재 스택에 쌓여있는 (((개수 만큼을 answer에 더해준다.\n",
    "            stack.pop()\n",
    "            # 쌓인 '('의 개수만큼 더하기 전에 ')'에 쌍을 이루는 '('는 제거 시킨다. 쇠막대기의 시작을 나타내는'('가 아니고 \n",
    "            # 레이저 () 의 '(' 이므로\n",
    "            answer += len(stack)\n",
    "            # 쌓여있는 '(' 만큼(쇠막대기)를 answer에 더해준다.\n",
    "\n",
    "        else:\n",
    "            # else문을 탔다는건 batch[i-1] 즉 앞전에 나온 문자가 ')' 라는 뜻이다. 레이저가 아니라 쇠막대기의 끝이라는 뜻이다.\n",
    "            # 규칙 적용하여 스택에서 '(' 제거 하면서 +1 시켜준다.\n",
    "            stack.pop()\n",
    "            answer += 1\n",
    "\n",
    "print(answer)"
   ]
  }
 ],
 "metadata": {
  "kernelspec": {
   "display_name": "AMAD-jupyter",
   "language": "python",
   "name": "conda"
  },
  "language_info": {
   "codemirror_mode": {
    "name": "ipython",
    "version": 3
   },
   "file_extension": ".py",
   "mimetype": "text/x-python",
   "name": "python",
   "nbconvert_exporter": "python",
   "pygments_lexer": "ipython3",
   "version": "3.9.7"
  },
  "orig_nbformat": 4
 },
 "nbformat": 4,
 "nbformat_minor": 2
}
