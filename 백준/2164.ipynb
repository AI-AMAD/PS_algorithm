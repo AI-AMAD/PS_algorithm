{
 "cells": [
  {
   "cell_type": "markdown",
   "metadata": {},
   "source": [
    "<img src = '2164.png'>"
   ]
  },
  {
   "cell_type": "code",
   "execution_count": 14,
   "metadata": {},
   "outputs": [
    {
     "name": "stdout",
     "output_type": "stream",
     "text": [
      "deque([4])\n"
     ]
    }
   ],
   "source": [
    "# 리스트로도 큐 자료구조를 구현할 수는 있지만 그렇게 되면 시간복잡도가 높아져서 del [0] 을 했을때 O(n)의 시간복잡도를 갖게된다.\n",
    "# 파이썬에서 deque 라이브러리를 이용해서 큐를 구현하면 pop, popleft, append, appendleft 모두 시간복잡도 O(1)이 된다. \n",
    "# queue 클래스보다는 deque 라이브러리의 장점이다. \n",
    "# 코테 풀이시 단순 queue 클래스를 import 하지 말고 collections의 deque를 사용하자!!\n",
    "\n",
    "from collections import deque\n",
    "\n",
    "N = int(input())\n",
    "queue = deque([i for i in range(1,N+1)])\n",
    "\n",
    "for i in range(N-1):\n",
    "    queue.popleft()\n",
    "    queue.append(queue.popleft())\n",
    "\n",
    "print(queue)\n"
   ]
  }
 ],
 "metadata": {
  "kernelspec": {
   "display_name": "AMAD-jupyter",
   "language": "python",
   "name": "conda"
  },
  "language_info": {
   "codemirror_mode": {
    "name": "ipython",
    "version": 3
   },
   "file_extension": ".py",
   "mimetype": "text/x-python",
   "name": "python",
   "nbconvert_exporter": "python",
   "pygments_lexer": "ipython3",
   "version": "3.9.7"
  },
  "orig_nbformat": 4
 },
 "nbformat": 4,
 "nbformat_minor": 2
}
