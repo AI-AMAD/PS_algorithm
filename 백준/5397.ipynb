{
 "cells": [
  {
   "cell_type": "markdown",
   "metadata": {},
   "source": [
    "<img src='5397.png'>"
   ]
  },
  {
   "cell_type": "code",
   "execution_count": 4,
   "metadata": {},
   "outputs": [
    {
     "name": "stdout",
     "output_type": "stream",
     "text": [
      "BAPC\n",
      "ThIsIsS3Cr3t\n"
     ]
    }
   ],
   "source": [
    "test_case = int(input())\n",
    "\n",
    "for _ in range(test_case):\n",
    "    L = input()\n",
    "    stack_1 = []\n",
    "    stack_2 = []\n",
    "    # 스택을 두개 사용하면 문제를 쉽게 해결할 수 있다.\n",
    "    # 물론 처음에는 문제만 봤을때는 스택문제인지 1개 사용하면 되는지 2개 사용하면 되는지 감이 잘 잡히지 않지만 이런 류의 문제를 많이 풀게되면 감이 잡힌다.\n",
    "    # 이 문제로 예를 들어보면 코딩하기전 먼저 연습장에 구현사항을 머릿속에 떠올린다.\n",
    "    # 이때 커서의 위치가 바뀌면 입력되는 문자가 달라지므로 커서를 누를때 마다 단어를 뺐다가 어딘가에 넣어놨다가 다시 마지막에 넣으면 된다 라는 구현이 떠오른다.\n",
    "    # 이런 구현까지 떠올렸으면 스택이 2개면 될것이다 라는 감이 잡힌다. \n",
    "    # 결론은 이런 유형의 문제를 많이 풀어봐야 하며 무작정 코드를 치려고 하기보다는 연습장에 어떤식으로 구현 하면 될지 순차적으로 적어보는것이 도움이 된다.\n",
    "\n",
    "    for i in L:\n",
    "        # 입력 된 L만큼 for문을 돌리고\n",
    "        # for문이 돌아갈때 마다 조건문으로 행동을 구현시킨다. \n",
    "        # 물론 이 과정 전에 어떤 순서로 구현할 것인지 먼저 연습장에 적어놓아야 쉽게 코드로 구현 가능해진다.\n",
    "        if i == '-':\n",
    "            if stack_1:\n",
    "                stack_1.pop()\n",
    "            # -가 오면 글자를 하나 빼준다. 스택을 만들고 pop으로 글자 빼주는 것을 구현한다.\n",
    "        elif i == '<':\n",
    "            if stack_1:\n",
    "                stack_2.append(stack_1.pop())\n",
    "            # < 가 오면 1번째 스택에 마지막 요소를 2번째 스택에 넣어준다. 나중에 다시 집어 넣어야 하기 때문에 삭제가 아닌, 어딘가에 push하는 것이 포인트이다.\n",
    "        elif i == '>':\n",
    "            if stack_2:\n",
    "                stack_1.append(stack_2.pop())\n",
    "            # > 가 오면 2번째 스택에 마지막 요소를 1번째 스택에 넣어준다. 위와 동일한 로직으로 구현한다. \n",
    "        else:\n",
    "            stack_1.append(i)\n",
    "            # 아무런 기호가 오지 않고 그냥 글자 또는 숫자가 온다면 1번 스택에 추가한다.\n",
    "    stack_1.extend(reversed(stack_2))\n",
    "    # for문 종료후 1번 스택에 2번 스택의 값들을 연결시켜 주면 된다. 하지만 2번 스택은 reversed하여 거꾸로 뒤집는다. (스택이므로)\n",
    "    # 거꾸로 뒤집어서 연결 시키는게 이해가 안된다면 연습장에 스택1과 스택2에 값을 넣어보고 빼는 방식을 직접 적어보면 왜 거꾸로 뒤집어서 연결해야 하는지 이해가 될 것이다.\n",
    "    print(''.join(stack_1))\n",
    "    # ''.join(리스트) 문법 자주 나오므로 기억하자!\n",
    "    # join 앞에 '' ' ' - 등등 으로 리스트를 연결시킨다는 의미이다. 지금은 띄어쓰기 없이 '' 이므로 리스트의 값들을 띄어쓰기 없이 그대로 연결하여 출력한다는 의미이다.\n",
    "    # join() 메소드에 들어갈 인자의 자료형은 리스트이다!"
   ]
  }
 ],
 "metadata": {
  "kernelspec": {
   "display_name": "AMAD-jupyter",
   "language": "python",
   "name": "conda"
  },
  "language_info": {
   "codemirror_mode": {
    "name": "ipython",
    "version": 3
   },
   "file_extension": ".py",
   "mimetype": "text/x-python",
   "name": "python",
   "nbconvert_exporter": "python",
   "pygments_lexer": "ipython3",
   "version": "3.9.7"
  },
  "orig_nbformat": 4
 },
 "nbformat": 4,
 "nbformat_minor": 2
}
