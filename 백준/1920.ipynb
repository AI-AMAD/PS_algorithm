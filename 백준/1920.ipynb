{
 "cells": [
  {
   "cell_type": "markdown",
   "metadata": {},
   "source": [
    "<img src='1920.png'>"
   ]
  },
  {
   "cell_type": "code",
   "execution_count": 9,
   "metadata": {},
   "outputs": [
    {
     "name": "stdout",
     "output_type": "stream",
     "text": [
      "1\n",
      "1\n",
      "0\n",
      "0\n",
      "0\n"
     ]
    }
   ],
   "source": [
    "# 이번 문제는 리스트를 사용해서 풀이해도 답은 맞출수 있으나 시간 초과에 걸리게 된다. \n",
    "# 시간 초과하지 않으려면 중복된 숫자를 줄여줄수 있는 set 자료형을 사용할 줄 아는지 물어보는 문제이다. \n",
    "N   = int(input())\n",
    "N_a = set(map(int, input().split()))\n",
    "# N_a의 값을 list로 받으면 시간초과 하게 된다. 따라서 중복된 값이 들어갔을 경우에 M_a와 비교해서 있는지 없는지만 구분하면 되기 때문에 set으로 중복된 값을 줄여준다.\n",
    "M   = int(input())\n",
    "M_a = list(map(int, input().split()))\n",
    "\n",
    "for i in range(M):\n",
    "    if M_a[i] in N_a:\n",
    "        print('1')\n",
    "    else:\n",
    "        print('0')"
   ]
  }
 ],
 "metadata": {
  "kernelspec": {
   "display_name": "AMAD-jupyter",
   "language": "python",
   "name": "conda"
  },
  "language_info": {
   "codemirror_mode": {
    "name": "ipython",
    "version": 3
   },
   "file_extension": ".py",
   "mimetype": "text/x-python",
   "name": "python",
   "nbconvert_exporter": "python",
   "pygments_lexer": "ipython3",
   "version": "3.9.7"
  },
  "orig_nbformat": 4
 },
 "nbformat": 4,
 "nbformat_minor": 2
}
