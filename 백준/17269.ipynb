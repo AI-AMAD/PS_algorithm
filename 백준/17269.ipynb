{
 "cells": [
  {
   "cell_type": "markdown",
   "metadata": {},
   "source": [
    "<img src=\"17269f.png\">\n",
    "<img src=\"17269s.png\">"
   ]
  },
  {
   "cell_type": "code",
   "execution_count": 47,
   "metadata": {},
   "outputs": [
    {
     "name": "stdout",
     "output_type": "stream",
     "text": [
      "1%\n"
     ]
    }
   ],
   "source": [
    "N, M = map(int, input().split())\n",
    "A, B = input().split()\n",
    "\n",
    "name_space = [3, 2, 1, 2, 4, 3, 1, 3, 1, 1, 3, 1, 3, 2, 1, 2, 2, 2, 1, 2, 1, 1, 1, 2, 2, 1]\n",
    "\n",
    "AB = ''\n",
    "\n",
    "min_len = min(N, M)\n",
    "\n",
    "for i in range(min_len):\n",
    "    # 더 작은 수의 이름 만큼만 반복문 돌리면서 첫번째 이름, 두번째 이름 계속해서 조합한다.\n",
    "    AB += A[i] + B[i]\n",
    "\n",
    "AB += A[min_len:] + B[min_len:]\n",
    "# 반복문 종료되면 이름 길이가 다를경우에 분명 더 긴 이름은 남는 부분이 있을텐데 이때 슬라이싱으로 [min_len:] 그 남는 부분의 이름만 슬라이싱 해서 더해준다.\n",
    "# A의 이름이 짧든 B의 이름이 짧든 상관없다 어차피 짧은쪽은 슬라이싱 했을때 빈 문자열을 갖고 오기때문에 항상 아래의 패턴처럼 된다.\n",
    "# '' + '남는이름'   or   '남는이름' + '' 가 된다.\n",
    "\n",
    "nameG = [name_space[ord(i)-ord('A')] for i in AB]\n",
    "# 합친 이름을 이제 숫자로 변환 해야 하는데 알파벳의 순서대로 숫자가 나열되어있으므로 아스키 코드를 이용해서 인덱스 숫자를 구할 수 있다.\n",
    "# ord('A')는 65, ord('B')는 66 이렇게 알바벳 하나가 늘어남에 따라서 아스키 코드도 1씩 늘어난다. \n",
    "# 따라서 ord('문자열') - ord('A') 를 해주면 나오는 숫자가 name_space의 인덱스 번호가 된다. \n",
    "# ex) 첫번째 문자열이 A인 경우 ord('A') - ord('A') 를 하면 65-65 이므로 0이 된다. \n",
    "#     두번째 문자열이 B인 경우 ord('B') - ord('B') 를 하면 66-65 이므로 1이 된다. \n",
    "# A는 name_space[0] 이고 B는 name_space[1]이므로 위의 식으로 번호를 구할 수 있다. \n",
    "nameG_len = len(nameG)\n",
    "# 최종적으로 리스트에 남는 숫자는 2개 이므로 len함수를 써서 숫자로 변환\n",
    "while nameG_len > 2:\n",
    "    # 최종적으로 리스트에 남는 숫자는 2개일때 까지 반복하면 되므로 while 문으로 반복문 시작\n",
    "    for i in range(nameG_len-1):\n",
    "        # 처음 리스트에 숫자가 5개 있을때는 4번 더하면 되고 4개 있을때는 3번 더하면 된다. 따라서 nameG_len보다 1뺀 만큼만 반복되면 된다.\n",
    "        nameG[i] = nameG[i] + nameG[i+1]\n",
    "        # 반복할때마다 첫번째 인덱스에 값을 첫번째 인덱스 + 두번째 인덱스 의 값으로 대체 시킨다.\n",
    "        if nameG[i] > 10:\n",
    "            nameG[i] %= 10\n",
    "        if nameG[i] == 10:\n",
    "            nameG[i] = 0\n",
    "        #문제의 조건대로 10이 넘어가면 나머지를 대입 시키고 10일때는 0을 대입시킨다.\n",
    "        \n",
    "    nameG.pop()\n",
    "    # 위의 식대로 하면 nameG의 값이 줄어들지 않고 계속해서 같은 개수의 인덱스가 남는다 따라서 마지막 값을 없애준다. \n",
    "    nameG_len -= 1\n",
    "    # 최정적으로 남는 개수가 2개 일때까지 해야 하므로 반복문이 한번 돌때마다 nameG_len의 값을 1씩 빼준다.\n",
    "\n",
    "if nameG[0] == 0:\n",
    "    # 최종 계산 후 리스트의 첫번째 숫자가 0으로 시작하면 0,1 일 경우 01% 이렇게 출력된다 그러면 안되니깐 첫 숫자가 0일때 조치를 취한다.\n",
    "    nameG[0] = nameG[1]\n",
    "    # 리스트의 첫번째 값이 0일 경우 두번째 값으로 대체 시킨다. \n",
    "    nameG.pop()\n",
    "    # 첫번째 값이 두번째 값으로 대체됐다면 더이상 두번째 값이 필요 없으므로 두번째 값을 pop으로 제거한다.\n",
    "    print(f'{nameG[0]}%')\n",
    "else:\n",
    "    # 최종 계산 후 첫번째 숫자가 0이 아니라면 첫번 째 숫자와 두번째 숫자를 문자열로 반환한 후 합쳐서 %를 붙여서 출력한다.\n",
    "    print(f'{str(nameG[0])+str(nameG[1])}%')\n"
   ]
  },
  {
   "cell_type": "code",
   "execution_count": 48,
   "metadata": {},
   "outputs": [
    {
     "name": "stdout",
     "output_type": "stream",
     "text": [
      "77%\n"
     ]
    }
   ],
   "source": [
    "# 잘 이해는 가지 않지만 이 문제의 정해이다.\n",
    "\n",
    "N, M = map(int, input().split())\n",
    "A, B = input().split()\n",
    "\n",
    "alp = [3, 2, 1, 2, 4, 3, 1, 3, 1, 1, 3, 1, 3, 2, 1, 2, 2, 2, 1, 2, 1, 1, 1, 2, 2, 1]\n",
    "\n",
    "AB = ''\n",
    "min_len = min(N,M)\n",
    "\n",
    "for i in range(min_len):\n",
    "    AB += A[i] + B[i]\n",
    "\n",
    "AB += A[min_len:] + B[min_len:]\n",
    "\n",
    "lst = [alp[ord(i)-ord('A')] for i in AB]\n",
    "\n",
    "for i in range(N+M-2):\n",
    "    for j in range(N+M-1-i):\n",
    "        lst[j] += lst[j+1]\n",
    "\n",
    "print(f'{lst[0] % 10 * 10 + lst[1] % 10}%')\n"
   ]
  }
 ],
 "metadata": {
  "kernelspec": {
   "display_name": "AMAD-jupyter",
   "language": "python",
   "name": "conda"
  },
  "language_info": {
   "codemirror_mode": {
    "name": "ipython",
    "version": 3
   },
   "file_extension": ".py",
   "mimetype": "text/x-python",
   "name": "python",
   "nbconvert_exporter": "python",
   "pygments_lexer": "ipython3",
   "version": "3.9.7"
  },
  "orig_nbformat": 4
 },
 "nbformat": 4,
 "nbformat_minor": 2
}
