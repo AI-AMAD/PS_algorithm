{
 "cells": [
  {
   "cell_type": "markdown",
   "metadata": {},
   "source": [
    "<img src = '2812.png'>"
   ]
  },
  {
   "cell_type": "code",
   "execution_count": 45,
   "metadata": {},
   "outputs": [
    {
     "name": "stdout",
     "output_type": "stream",
     "text": [
      "44\n"
     ]
    }
   ],
   "source": [
    "# 규칙\n",
    "# 입력받은 숫자를 하나씩 스택에 넣는 반복문을 돌린다.\n",
    "# 스택에 들어가는 숫자가 쌓여있는 스택 최상단의 숫자보다 크다면 스택 최상단의 숫자를 pop시키고 숫자를 넣는다. (이런식으로 스택에 넣어야 가장 큰 수를 만들수 있기 때문에)\n",
    "# pop 시킬때 마다 K(지울수 있는 수)를 -1 해준다. \n",
    "\n",
    "N, K = map(int, input().split())\n",
    "number = list(input())\n",
    "count = K\n",
    "stack = []\n",
    "\n",
    "for i in range(N):\n",
    "    while count > 0 and stack and number[i] > stack[-1]:\n",
    "        stack.pop()\n",
    "        count -= 1\n",
    "    stack.append(number[i])\n",
    "    # 반복문 시작하면서 바로 스택에 숫자를 집어 넣으면 위의 규칙으로 스택에 숫자를 삽입, 삭제 할 수 없다.\n",
    "    # while 반복문 보다 먼저 append가 된다면 number[i] 와 stack[-1] 은 항상 같은 수가 된다. 따라서, while 조건문의 number[i] > stack[-1]이 항상 False가 되어 while반복문으로 진입이 불가능하다. \n",
    "print(''.join(stack[:N-K])) # 같은 숫자가 들어가는 테스트케이스가 이 문제의 코너 케이스 이다. \n",
    "                            # N=5, K=3, number=43344 같은 숫자를 입력받는다면 stack에는 최종적으로 [4,4,4]가 쌓이게 된다. \n",
    "                            # N자리 수에 K번 숫자를 지운다면 항상 N-K의 수가 나와야 하는데 다음과 같은 코너케이스에는 N-K보다 stack의 쌓인 숫자의 갯수가 더 클수 있다. \n",
    "                            # 따라서 그런 코너케이스를 통과하기 위해서 슬라이싱 하여 [:N-K] 까지만 출력한다. "
   ]
  }
 ],
 "metadata": {
  "kernelspec": {
   "display_name": "AMAD-jupyter",
   "language": "python",
   "name": "conda"
  },
  "language_info": {
   "codemirror_mode": {
    "name": "ipython",
    "version": 3
   },
   "file_extension": ".py",
   "mimetype": "text/x-python",
   "name": "python",
   "nbconvert_exporter": "python",
   "pygments_lexer": "ipython3",
   "version": "3.9.7"
  },
  "orig_nbformat": 4
 },
 "nbformat": 4,
 "nbformat_minor": 2
}
