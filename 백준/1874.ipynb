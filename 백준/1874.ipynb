{
 "cells": [
  {
   "cell_type": "markdown",
   "metadata": {},
   "source": [
    "<img src='1874f.png'>\n",
    "<img src='1874s.png'>"
   ]
  },
  {
   "cell_type": "code",
   "execution_count": 1,
   "metadata": {},
   "outputs": [
    {
     "name": "stdout",
     "output_type": "stream",
     "text": [
      "NO\n"
     ]
    },
    {
     "ename": "SystemExit",
     "evalue": "0",
     "output_type": "error",
     "traceback": [
      "An exception has occurred, use %tb to see the full traceback.\n",
      "\u001b[0;31mSystemExit\u001b[0m\u001b[0;31m:\u001b[0m 0\n"
     ]
    },
    {
     "name": "stderr",
     "output_type": "stream",
     "text": [
      "/Users/AMAD/y/lib/python3.9/site-packages/IPython/core/interactiveshell.py:3405: UserWarning: To exit: use 'exit', 'quit', or Ctrl-D.\n",
      "  warn(\"To exit: use 'exit', 'quit', or Ctrl-D.\", stacklevel=1)\n"
     ]
    }
   ],
   "source": [
    "import sys\n",
    "N = int(input())\n",
    "\n",
    "# 먼저 수열을 어떻게 만들수 있는지 조건을 알아야 한다.\n",
    "# 스택에 넣은 숫자는 pop되어 나올때 무조건 내림차순으로 나올 수 밖에 없다. (스택에 들어갈때 오름차순으로 넣는다고 명시되었으므로)\n",
    "# 따라서 스택의 마지막에 들어간 값이 data의 값과 일치 하지 않는다면 내림차순이 아니라는 뜻이다.  \n",
    "stack  = [] \n",
    "result = []\n",
    "count  = 1 \n",
    "\n",
    "for i in range(N):\n",
    "    data = int(input())\n",
    "    while count <= data:\n",
    "        # 입력한 값(data)까지는 일단 1부터 차례대로 스택에 집어넣는다. (오름차순으로 들어간다고 명시했으므로)\n",
    "        stack.append(count)\n",
    "        count += 1 # 카운트의 값을 증가 시켜야 다음번에 스택에 추가 될때 +1씩 증가한다. \n",
    "        result.append('+') # 문제의 조건 이므로 +도 result에 추가시켜준다.\n",
    "\n",
    "    if stack[-1] == data:\n",
    "        # data의 값과 count의 값이 일치 될때까지(그러니깐 입력한 data의 값까지 스택에 쌓였다면 더이상 while문을 돌지 않고 if문으로 들어온다.)\n",
    "        # 이때 스택의 마지막의 값과 입력한 data의 값이 일치한다면 스택에서 제거한다. \n",
    "        stack.pop()\n",
    "        result.append('-') # 문제의 조건으로 pop되면 - 하라고 했으니 result에 추가시킨다.\n",
    "\n",
    "    else:\n",
    "        # pop이 되다가(스택의 마지막값과 data의 값이 일치할때) 위의 if문이 성립하지 않는 경우에는 내림차순으로 pop되지 않는다는 뜻이므로\n",
    "        # 수열을 만들 수 없는 조건이 된다. 따라서 NO를 출력하면 된다.\n",
    "        print('NO')\n",
    "        sys.exit(0) # 단순히 break문으로 for반복문을 종료 시키면 수열이 가능할 경우에 출력하는 result의 값이 수열이 불가능한\n",
    "                    # NO일때에도 코드가 동작한다(코드는 그저 위에서 아래로 실행시키기 때문에)\n",
    "                    # 따라서 밑에 print문을 실행시키지 않으려면 단순히 break문을 쓰는게 아닌 import sys 하여 exit()사용하여 스크립트 \n",
    "                    # 자체를 종료 시킨다.\n",
    "        \n",
    "print('\\n'.join(result)) # 수열이 가능할 경우 반복문 이용하지말고 join()이용하여 개행하여 출력한다.\n"
   ]
  }
 ],
 "metadata": {
  "interpreter": {
   "hash": "aee8b7b246df8f9039afb4144a1f6fd8d2ca17a180786b69acc140d282b71a49"
  },
  "kernelspec": {
   "display_name": "AMAD-jupyter",
   "language": "python",
   "name": "conda"
  },
  "language_info": {
   "codemirror_mode": {
    "name": "ipython",
    "version": 3
   },
   "file_extension": ".py",
   "mimetype": "text/x-python",
   "name": "python",
   "nbconvert_exporter": "python",
   "pygments_lexer": "ipython3",
   "version": "3.9.7"
  },
  "orig_nbformat": 4
 },
 "nbformat": 4,
 "nbformat_minor": 2
}
