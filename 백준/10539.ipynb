{
 "cells": [
  {
   "cell_type": "markdown",
   "metadata": {},
   "source": [
    "<img src=\"10539.png\">"
   ]
  },
  {
   "cell_type": "code",
   "execution_count": 6,
   "metadata": {},
   "outputs": [
    {
     "name": "stdout",
     "output_type": "stream",
     "text": [
      "3 1 5 11 "
     ]
    }
   ],
   "source": [
    "N = int(input())\n",
    "B = list(map(int, input().split()))\n",
    "\n",
    "A = [B[0]] \n",
    "# A의 값을 리턴해야 하므로 일단 A를 리스트로 선언한다. \n",
    "# 이때, A의 첫번째 값은 항상 B의 첫번째 값과 같다. (첫번째 값은 1로 나누기 때문에 어떤 숫자가 오더라도 1로 나눈 수는 나누기 전 그 수 그대로이다)\n",
    "# ex) A의 첫번째 숫자가 3이면 B의 첫번째 숫자는 3/1 이므로 B도 3이다. \n",
    "\n",
    "for i in range(1,N):\n",
    "    # 첫번째 값은 정해져있으므로 2번째 인덱스 부터 끝까지 반복해야 하므로 1로 시작해서 주어진값 N까지 반복한다 \n",
    "    # (N-1까지 반복하므로 N이 5이면 4까지 반복 5자리 수 이면 인덱스는 [4]까지이므로 ragne의 범위 그대로 N으로 해준다.)\n",
    "    A.append(B[i]*(i+1)-sum(A))\n",
    "    # 반복할때마다 A 리스트에 값을 추가 한다. \n",
    "    # 수열 B의 값이 주어질 때 A의 값이 어떻게 하면 나올수 있는지 먼저 종이에 적어본다. \n",
    "    # B의 1번 인덱스 곱하기 그게 몇번째 수 인지 나타내는 (i+1)을 곱해주고 거기에 A리스트의 숫자들의 합을 빼주면 A의 두번째 숫자의 값이 나온다.\n",
    "\n",
    "for i in A:\n",
    "    print(i, end=' ')\n",
    "    # 출력은 리스트로 하는게 아닌 한칸씩 띄어쓰기 되어있는 숫자이므로 리스트에서 개행없이 띄어쓰기만 해서 출력해주면 답이다."
   ]
  }
 ],
 "metadata": {
  "kernelspec": {
   "display_name": "AMAD-jupyter",
   "language": "python",
   "name": "conda"
  },
  "language_info": {
   "codemirror_mode": {
    "name": "ipython",
    "version": 3
   },
   "file_extension": ".py",
   "mimetype": "text/x-python",
   "name": "python",
   "nbconvert_exporter": "python",
   "pygments_lexer": "ipython3",
   "version": "3.9.7"
  },
  "orig_nbformat": 4
 },
 "nbformat": 4,
 "nbformat_minor": 2
}
