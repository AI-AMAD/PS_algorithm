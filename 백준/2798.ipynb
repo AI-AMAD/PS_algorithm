{
 "cells": [
  {
   "cell_type": "markdown",
   "metadata": {},
   "source": [
    "<img src = '2798.png'>"
   ]
  },
  {
   "cell_type": "code",
   "execution_count": 28,
   "metadata": {},
   "outputs": [
    {
     "name": "stdout",
     "output_type": "stream",
     "text": [
      "497\n"
     ]
    }
   ],
   "source": [
    "N, M = map(int, input().split())\n",
    "card = list(map(int, input().split()))\n",
    "\n",
    "answer = 0\n",
    "\n",
    "for i in range(N):\n",
    "    for j in range(i+1, N):\n",
    "        # 첫번째 카드와 두번째 카드는 고정시켜놓고 3번째 카드만 바꿔가면서 더해주면 되므로 i가 고른 카드를 j가 또 고르면 안되므로 j는 i+1부터 시작한다\n",
    "        for k in range(j+1, N):\n",
    "            # 세번째 카드인 k는 i,j 와 중복되면 안되므로 j의 값에 또 +1 한다. 그렇게 하면 k는 자연스럽게 3번째 카드부터 반복을 돌게된다. \n",
    "            # 이렇게 되면 1,2번 카드는 고정시킨후 1,2,3  1,2,4  1,2,5 이렇게 루프를 돌게 된다. \n",
    "            if card[i] + card[j] + card[k] <= M:\n",
    "                answer = max(answer, card[i]+card[j]+card[k])\n",
    "\n",
    "print(answer)"
   ]
  }
 ],
 "metadata": {
  "kernelspec": {
   "display_name": "AMAD-jupyter",
   "language": "python",
   "name": "conda"
  },
  "language_info": {
   "codemirror_mode": {
    "name": "ipython",
    "version": 3
   },
   "file_extension": ".py",
   "mimetype": "text/x-python",
   "name": "python",
   "nbconvert_exporter": "python",
   "pygments_lexer": "ipython3",
   "version": "3.9.7"
  },
  "orig_nbformat": 4
 },
 "nbformat": 4,
 "nbformat_minor": 2
}
